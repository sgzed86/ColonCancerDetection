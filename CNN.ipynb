{
 "cells": [
  {
   "cell_type": "code",
   "execution_count": null,
   "id": "089a209a",
   "metadata": {
    "vscode": {
     "languageId": "plaintext"
    }
   },
   "outputs": [],
   "source": [
    "# import the libraries for CNN model\n",
    "import numpy as np\n",
    "import tensorflow as tf\n",
    "from tensorflow.keras import layers, models"
   ]
  },
  {
   "cell_type": "code",
   "execution_count": null,
   "id": "2895b681",
   "metadata": {},
   "outputs": [],
   "source": [
    "# Load the data\n",
    "import os\n",
    "from PIL import Image\n",
    "import numpy as np\n",
    "\n",
    "# Set path to your image folder\n",
    "image_folder = \"/content/polyp/train/images\"  \n",
    "\n",
    "# Initialize list to store image arrays\n",
    "train_images = []\n",
    "\n",
    "# Loop through all .jpg files in the folder\n",
    "for filename in os.listdir(image_folder):\n",
    "    if filename.lower().endswith(\".jpg\"):\n",
    "        img_path = os.path.join(image_folder, filename)\n",
    "        \n",
    "        # Load and convert image to RGB\n",
    "        img = Image.open(img_path).convert(\"RGB\")\n",
    "        \n",
    "        # Optionally resize (common in training pipelines)\n",
    "        img = img.resize((224, 224))  # Resize to fixed shape if needed\n",
    "\n",
    "        # Convert to NumPy array and normalize to [0,1]\n",
    "        img_array = np.array(img) / 255.0\n",
    "\n",
    "        # Append to training list\n",
    "        train_images.append(img_array)\n",
    "\n",
    "\n",
    "\n",
    "print(f\"Loaded {len(train_images)} images into train_images.\")"
   ]
  },
  {
   "cell_type": "code",
   "execution_count": null,
   "id": "031bef27",
   "metadata": {},
   "outputs": [],
   "source": [
    "# set path to label folder\n",
    "label_folder = \"/content/polyp/train/labels\"  \n",
    "\n",
    "# Initialize label list\n",
    "train_labels = []\n",
    "\n",
    "# Loop through all .txt files in the folder\n",
    "for filename in os.listdir(label_folder):\n",
    "    if filename.lower().endswith(\".txt\"):\n",
    "        label_path = os.path.join(label_folder, filename)\n",
    "        \n",
    "        # Read label file\n",
    "        with open(label_path, \"r\") as f:\n",
    "            lines = f.readlines()\n",
    "\n",
    "        # Parse each line into a list of floats\n",
    "        labels = []\n",
    "        for line in lines:\n",
    "            parts = list(map(float, line.strip().split()))\n",
    "            labels.append(parts)  # each label is [class_id, x_center, y_center, width, height]\n",
    "\n",
    "        # Append labels for this image (could be empty if no objects)\n",
    "        train_labels.append(labels)\n",
    "\n",
    "print(f\"Loaded {len(train_labels)} label files into train_labels.\")\n"
   ]
  },
  {
   "cell_type": "code",
   "execution_count": null,
   "id": "f6c20d29",
   "metadata": {},
   "outputs": [],
   "source": [
    "# Set path to your image folder for test data\n",
    "image_folder = \"/content/polyp/test/images\"  \n",
    "\n",
    "# Initialize list to store image arrays\n",
    "test_images = []\n",
    "\n",
    "# Loop through all .jpg files in the folder\n",
    "for filename in os.listdir(image_folder):\n",
    "    if filename.lower().endswith(\".jpg\"):\n",
    "        img_path = os.path.join(image_folder, filename)\n",
    "\n",
    "        # Load and convert image to RGB\n",
    "        img = Image.open(img_path).convert(\"RGB\")\n",
    "\n",
    "        # Optionally resize (common in training pipelines)\n",
    "        img = img.resize((224, 224))  # Resize to fixed shape if needed\n",
    "\n",
    "        # Convert to NumPy array and normalize to [0,1]\n",
    "        img_array = np.array(img) / 255.0\n",
    "\n",
    "        # Append to training list\n",
    "        test_images.append(img_array)\n",
    "\n",
    "\n",
    "\n",
    "print(f\"Loaded {len(test_images)} images into train_images.\")"
   ]
  },
  {
   "cell_type": "code",
   "execution_count": null,
   "id": "12c5bd0e",
   "metadata": {},
   "outputs": [],
   "source": [
    "# get labels for test data\n",
    "label_folder = \"/content/polyp/test/labels\"  \n",
    "\n",
    "# Initialize label list\n",
    "test_labels = []\n",
    "\n",
    "# Loop through all .txt files in the folder\n",
    "for filename in os.listdir(label_folder):\n",
    "    if filename.lower().endswith(\".txt\"):\n",
    "        label_path = os.path.join(label_folder, filename)\n",
    "        \n",
    "        # Read label file\n",
    "        with open(label_path, \"r\") as f:\n",
    "            lines = f.readlines()\n",
    "\n",
    "        # Parse each line into a list of floats\n",
    "        labels = []\n",
    "        for line in lines:\n",
    "            parts = list(map(float, line.strip().split()))\n",
    "            labels.append(parts)  # each label is [class_id, x_center, y_center, width, height]\n",
    "\n",
    "        # Append labels for this image (could be empty if no objects)\n",
    "        test_labels.append(labels)\n",
    "\n",
    "print(f\"Loaded {len(test_labels)} label files into train_labels.\")"
   ]
  },
  {
   "cell_type": "code",
   "execution_count": null,
   "id": "0fad8ec2",
   "metadata": {},
   "outputs": [],
   "source": [
    "# Normalize pixel values to be between 0 and 1\n",
    "train_images, test_images = train_images / 255.0, test_images / 255.0"
   ]
  },
  {
   "cell_type": "code",
   "execution_count": null,
   "id": "1cfedd77",
   "metadata": {},
   "outputs": [],
   "source": [
    "# Define the CNN model\n",
    "model = models.Sequential([\n",
    "    layers.Conv2D(32, (3, 3), activation='relu', input_shape=(32, 32, 3)),\n",
    "    layers.MaxPooling2D((2, 2)),\n",
    "    layers.Conv2D(64, (3, 3), activation='relu'),\n",
    "    layers.MaxPooling2D((2, 2)),\n",
    "    layers.Conv2D(64, (3, 3), activation='relu'),\n",
    "    layers.Flatten(),\n",
    "    layers.Dense(64, activation='relu'),\n",
    "    layers.Dense(10) \n",
    "])"
   ]
  },
  {
   "cell_type": "code",
   "execution_count": null,
   "id": "05af931b",
   "metadata": {},
   "outputs": [],
   "source": [
    "# Compile the model\n",
    "model.compile(optimizer='adam',\n",
    "              loss=tf.keras.losses.SparseCategoricalCrossentropy(from_logits=True),\n",
    "              metrics=['accuracy'])"
   ]
  },
  {
   "cell_type": "code",
   "execution_count": null,
   "id": "66e7068f",
   "metadata": {},
   "outputs": [],
   "source": []
  }
 ],
 "metadata": {
  "language_info": {
   "name": "python"
  }
 },
 "nbformat": 4,
 "nbformat_minor": 5
}
